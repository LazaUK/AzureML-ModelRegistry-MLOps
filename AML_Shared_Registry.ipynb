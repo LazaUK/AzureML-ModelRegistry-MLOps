{
 "cells": [
  {
   "cell_type": "markdown",
   "metadata": {},
   "source": [
    "## Jupyter Notebook to test Azure ML Registry capabilities, with model sharing across Azure ML workspaces"
   ]
  },
  {
   "cell_type": "markdown",
   "metadata": {},
   "source": [
    "### Environment setup"
   ]
  },
  {
   "cell_type": "code",
   "execution_count": 1,
   "metadata": {},
   "outputs": [],
   "source": [
    "# Import required packages\n",
    "from azure.ai.ml import MLClient\n",
    "from azure.ai.ml.entities import Model, ManagedOnlineEndpoint, ManagedOnlineDeployment\n",
    "from azure.ai.ml.constants import AssetTypes\n",
    "from azure.identity import DefaultAzureCredential, AzureCliCredential, InteractiveBrowserCredential"
   ]
  },
  {
   "cell_type": "code",
   "execution_count": null,
   "metadata": {},
   "outputs": [],
   "source": [
    "# Set required variables\n",
    "subscription_id = \"<your-subscription-id>\" # Replace with your subscription ID\n",
    "\n",
    "aml_staging_name = \"<your-aml-staging-name>\" # Replace with your AML staging workspace name\n",
    "aml_staging_rg = \"<your-aml-staging-rg>\" # Replace with your AML staging resource group name\n",
    "\n",
    "aml_production_name = \"<your-aml-production-name>\" # Replace with your AML production workspace name\n",
    "aml_production_rg = \"<your-aml-production-rg>\" # Replace with your AML production resource group name\n",
    "\n",
    "aml_registry_name = \"<your-aml-registry-name>\" # Replace with your AML registry name\n",
    "aml_registry_location = \"<your-aml-registry-location>\" # Replace with your AML registry location\n",
    "\n",
    "model_name = \"<your-model-name>\" # Replace with your model name\n",
    "model_path = \"<your-model-path>\" # Replace with your model path\n",
    "model_version = \"<your-model-version>\" # Replace with your model version"
   ]
  },
  {
   "cell_type": "code",
   "execution_count": 3,
   "metadata": {},
   "outputs": [],
   "source": [
    "# Authenticate to Azure\n",
    "try:\n",
    "    credential = AzureCliCredential()\n",
    "    # credential.get_token(\"https://management.azure.com/.default\")\n",
    "except Exception as ex:\n",
    "    credential = InteractiveBrowserCredential()"
   ]
  },
  {
   "cell_type": "code",
   "execution_count": null,
   "metadata": {},
   "outputs": [],
   "source": [
    "# Connect Staging Azure ML workspace\n",
    "ml_client_staging = MLClient(\n",
    "    credential = credential,\n",
    "    subscription_id = subscription_id,\n",
    "    resource_group_name = aml_staging_rg,\n",
    "    workspace_name = aml_staging_name\n",
    ")\n",
    "\n",
    "print(ml_client_staging)"
   ]
  },
  {
   "cell_type": "code",
   "execution_count": null,
   "metadata": {},
   "outputs": [],
   "source": [
    "# Connect Production Azure ML workspace\n",
    "ml_client_prod = MLClient(\n",
    "    credential = credential,\n",
    "    subscription_id = subscription_id,\n",
    "    resource_group_name = aml_production_rg,\n",
    "    workspace_name = aml_production_name\n",
    ")\n",
    "\n",
    "print(ml_client_prod)"
   ]
  },
  {
   "cell_type": "code",
   "execution_count": null,
   "metadata": {},
   "outputs": [],
   "source": [
    "# Connect Azure ML Registry\n",
    "ml_client_registry = MLClient(\n",
    "    credential = credential,\n",
    "    registry_name = aml_registry_name,\n",
    "    registry_location = aml_registry_location\n",
    ")\n",
    "\n",
    "print(ml_client_registry)"
   ]
  },
  {
   "cell_type": "markdown",
   "metadata": {},
   "source": [
    "### Scenario 1: Creating model directly in registry"
   ]
  },
  {
   "cell_type": "markdown",
   "metadata": {},
   "source": [
    "*Attempts to register model with the same name and version will fail.*"
   ]
  },
  {
   "cell_type": "code",
   "execution_count": null,
   "metadata": {},
   "outputs": [],
   "source": [
    "# Register model directly in registry\n",
    "mlflow_model = Model(\n",
    "    path = model_path,\n",
    "    type = AssetTypes.MLFLOW_MODEL,\n",
    "    name = model_name + \"-direct\",\n",
    "    version = model_version,\n",
    "    description = \"MLflow model, registered directly in the registry\",\n",
    ")\n",
    "\n",
    "ml_client_registry.models.create_or_update(mlflow_model)"
   ]
  },
  {
   "cell_type": "code",
   "execution_count": 8,
   "metadata": {},
   "outputs": [],
   "source": [
    "# Workaround option for AML Registry error\n",
    "def model_register(client:MLClient):\n",
    "    previous_model = client.models.get(\n",
    "        name = mlflow_model.name,\n",
    "        label = \"latest\"\n",
    "    )\n",
    "    mlflow_model.name = previous_model.name\n",
    "    mlflow_model.version = previous_model.version\n",
    "    client.models.create_or_update(mlflow_model)\n",
    "\n",
    "model_register(ml_client_registry)"
   ]
  },
  {
   "cell_type": "markdown",
   "metadata": {},
   "source": [
    "### Scenario 2: Sharing model via registry"
   ]
  },
  {
   "cell_type": "code",
   "execution_count": null,
   "metadata": {},
   "outputs": [],
   "source": [
    "# Create model in Staging workspace\n",
    "model_staging = Model(\n",
    "    path = model_path,\n",
    "    type = AssetTypes.MLFLOW_MODEL,\n",
    "    name = model_name + \"-staging\",\n",
    "    version = model_version,\n",
    "    description = \"MLflow model, registered in Staging workspace\",\n",
    ")\n",
    "\n",
    "ml_client_staging.models.create_or_update(model_staging)"
   ]
  },
  {
   "cell_type": "code",
   "execution_count": null,
   "metadata": {},
   "outputs": [],
   "source": [
    "# Share model from Staging to Registry\n",
    "ml_client_staging.models.share(\n",
    "    name = model_name + \"-staging\",\n",
    "    version = model_version,\n",
    "    registry_name = aml_registry_name,\n",
    "    share_with_name = model_name + \"-shared\",\n",
    "    share_with_version = model_version\n",
    ")"
   ]
  },
  {
   "cell_type": "code",
   "execution_count": 11,
   "metadata": {},
   "outputs": [
    {
     "data": {
      "text/plain": [
       "<azure.core.polling._poller.LROPoller at 0x16b08281110>"
      ]
     },
     "execution_count": 11,
     "metadata": {},
     "output_type": "execute_result"
    }
   ],
   "source": [
    "# Create online in Production workspace\n",
    "online_endpoint_name = \"endpoint-shared-model\"\n",
    "endpoint = ManagedOnlineEndpoint(\n",
    "    name = online_endpoint_name,\n",
    "    description = \"Online endpoint for shared model\",\n",
    "    auth_mode = \"key\"\n",
    ")\n",
    "\n",
    "ml_client_prod.begin_create_or_update(endpoint)"
   ]
  },
  {
   "cell_type": "code",
   "execution_count": 12,
   "metadata": {},
   "outputs": [],
   "source": [
    "# Retrieve model from registry\n",
    "shared_model = ml_client_registry.models.get(\n",
    "    name = model_name + \"-shared\",\n",
    "    version = model_version\n",
    ")"
   ]
  },
  {
   "cell_type": "code",
   "execution_count": 13,
   "metadata": {},
   "outputs": [
    {
     "name": "stderr",
     "output_type": "stream",
     "text": [
      "Check: endpoint endpoint-shared-model exists\n"
     ]
    },
    {
     "data": {
      "text/plain": [
       "<azure.core.polling._poller.LROPoller at 0x16b0a571e50>"
      ]
     },
     "execution_count": 13,
     "metadata": {},
     "output_type": "execute_result"
    },
    {
     "name": "stdout",
     "output_type": "stream",
     "text": [
      "..............................................................................."
     ]
    }
   ],
   "source": [
    "# Deploy model in Production workspace\n",
    "model_deployment = ManagedOnlineDeployment(\n",
    "    name = model_name + \"-shared\",\n",
    "    endpoint_name = online_endpoint_name,\n",
    "    model = shared_model,\n",
    "    instance_type = \"Standard_F4s_v2\",\n",
    "    instance_count = 1\n",
    ")\n",
    "\n",
    "ml_client_prod.online_deployments.begin_create_or_update(model_deployment)"
   ]
  },
  {
   "cell_type": "code",
   "execution_count": 14,
   "metadata": {},
   "outputs": [
    {
     "data": {
      "text/plain": [
       "<azure.core.polling._poller.LROPoller at 0x16b0a450250>"
      ]
     },
     "execution_count": 14,
     "metadata": {},
     "output_type": "execute_result"
    }
   ],
   "source": [
    "# Enable traffic for the endpoint\n",
    "endpoint.traffic = {model_name + \"-shared\": 100}\n",
    "\n",
    "ml_client_prod.begin_create_or_update(endpoint)"
   ]
  }
 ],
 "metadata": {
  "kernelspec": {
   "display_name": "Python 3",
   "language": "python",
   "name": "python3"
  },
  "language_info": {
   "codemirror_mode": {
    "name": "ipython",
    "version": 3
   },
   "file_extension": ".py",
   "mimetype": "text/x-python",
   "name": "python",
   "nbconvert_exporter": "python",
   "pygments_lexer": "ipython3",
   "version": "3.11.9"
  }
 },
 "nbformat": 4,
 "nbformat_minor": 2
}
